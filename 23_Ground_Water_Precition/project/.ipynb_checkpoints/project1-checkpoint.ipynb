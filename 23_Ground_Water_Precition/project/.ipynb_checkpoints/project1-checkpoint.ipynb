{
 "cells": [
  {
   "attachments": {},
   "cell_type": "markdown",
   "id": "cbf14515-d691-4a75-9ea0-03105d11ae9e",
   "metadata": {},
   "source": [
    "# Groundwater Quality Prediction\n"
   ]
  },
  {
   "cell_type": "markdown",
   "id": "adefab38-3341-4521-a368-04e4ddd77ecb",
   "metadata": {},
   "source": [
    "# import Libraries\n"
   ]
  },
  {
   "cell_type": "code",
   "execution_count": 2,
   "id": "f344ed7c-664b-4d46-80e5-d6d1630a96a5",
   "metadata": {},
   "outputs": [
    {
     "name": "stdout",
     "output_type": "stream",
     "text": [
      "<class 'pandas.core.frame.DataFrame'>\n",
      "RangeIndex: 6316 entries, 0 to 6315\n",
      "Data columns (total 10 columns):\n",
      " #   Column                       Non-Null Count  Dtype  \n",
      "---  ------                       --------------  -----  \n",
      " 0   Station Code                 6240 non-null   float64\n",
      " 1   Station Name                 6267 non-null   object \n",
      " 2   STATE                        6241 non-null   object \n",
      " 3   Temperature Min              5818 non-null   float64\n",
      " 4   Temperature Max              5818 non-null   float64\n",
      " 5   pH Min                       6195 non-null   float64\n",
      " 6   pH Max                       6195 non-null   float64\n",
      " 7   Conductivity (µmhos/cm) Min  6124 non-null   float64\n",
      " 8   Conductivity (µmhos/cm) Max  6124 non-null   float64\n",
      " 9   Year                         6316 non-null   int64  \n",
      "dtypes: float64(7), int64(1), object(2)\n",
      "memory usage: 493.6+ KB\n",
      "None\n",
      "   Station Code                                       Station Name  \\\n",
      "0          15.0                              WELL AT KUYYURA, A.P.   \n",
      "1          16.0                               WELL AT TADAVAI A.P.   \n",
      "2          26.0                            WELL AT VIJAYWADA, A.P.   \n",
      "3          27.0                           WELL AT PEDDAVOORA, A.P.   \n",
      "4        1513.0  B W. - KRISHNA MURTHY, D.NO. 48-16-43 AUTONAGA...   \n",
      "\n",
      "            STATE  Temperature Min  Temperature Max  pH Min  pH Max  \\\n",
      "0  ANDHRA PRADESH             23.0             28.0    6.82    7.85   \n",
      "1  ANDHRA PRADESH             27.0             28.0    7.21    7.72   \n",
      "2  ANDHRA PRADESH             26.0             32.0    7.19    7.39   \n",
      "3  ANDHRA PRADESH             26.0             27.0    7.82    8.80   \n",
      "4  ANDHRA PRADESH             25.0             30.0    6.80    7.11   \n",
      "\n",
      "   Conductivity (µmhos/cm) Min  Conductivity (µmhos/cm) Max  Year  \n",
      "0                        195.0                        226.0  2012  \n",
      "1                        663.0                       1121.0  2012  \n",
      "2                       1601.0                       1661.0  2012  \n",
      "3                       1420.0                       1668.0  2012  \n",
      "4                       1454.0                       1575.0  2012  \n"
     ]
    }
   ],
   "source": [
    "import pandas as pd\n",
    "import os\n",
    "\n",
    "# Path to your directory containing CSV files\n",
    "directory = r\"E:\\Downloads\\Data Science\\project\\pp\"\n",
    "\n",
    "\n",
    "# List of file names\n",
    "files = [\n",
    "    'Ground Water 2012.csv',\n",
    "    'Ground Water 2013.csv',\n",
    "    'Ground Water 2014.csv',\n",
    "    'Ground Water 2015.csv',\n",
    "    'Ground Water 2016.csv',\n",
    "    'Ground Water 2017.csv',\n",
    "    'Ground Water 2018.csv',\n",
    "    'Ground Water 2019.csv',\n",
    "    'Ground Water 2021.csv'\n",
    "]\n",
    "\n",
    "# List to hold the data from each file\n",
    "df_list = []\n",
    "\n",
    "# Load each file and append to the list\n",
    "for file in files:\n",
    "    file_path = os.path.join(directory, file)\n",
    "    df = pd.read_csv(file_path)\n",
    "    df_list.append(df)\n",
    "\n",
    "# Combine all the data into a single DataFrame\n",
    "df_combined = pd.concat(df_list, ignore_index=True)\n",
    "\n",
    "# Display information about the combined DataFrame\n",
    "print(df_combined.info())\n",
    "print(df_combined.head())\n"
   ]
  },
  {
   "cell_type": "code",
   "execution_count": null,
   "id": "e1548a34-e91e-43b2-8211-0e7125ebdd54",
   "metadata": {},
   "outputs": [],
   "source": []
  },
  {
   "cell_type": "code",
   "execution_count": 3,
   "id": "6401d5c9-04bd-47c2-9cf9-eeb0e238bd33",
   "metadata": {},
   "outputs": [
    {
     "name": "stdout",
     "output_type": "stream",
     "text": [
      "['Ground Water 2012.csv', 'Ground Water 2013.csv', 'Ground Water 2014.csv', 'Ground Water 2015.csv', 'Ground Water 2016.csv', 'Ground Water 2017.csv', 'Ground Water 2018.csv', 'Ground Water 2019.csv', 'Ground Water 2021.csv', 'Years.xlsx']\n"
     ]
    }
   ],
   "source": [
    "import os\n",
    "\n",
    "directory = r\"E:\\Downloads\\Data Science\\project\\pp\"\n",
    "print(os.listdir(directory))\n"
   ]
  },
  {
   "cell_type": "markdown",
   "id": "f6157abe-953e-424a-b914-8fa9f3533172",
   "metadata": {},
   "source": [
    "## Load Excel file"
   ]
  },
  {
   "cell_type": "code",
   "execution_count": 4,
   "id": "e8cb4861-16b9-4d3b-90a8-d33ac064f0cb",
   "metadata": {},
   "outputs": [
    {
     "name": "stdout",
     "output_type": "stream",
     "text": [
      "<class 'pandas.core.frame.DataFrame'>\n",
      "RangeIndex: 10 entries, 0 to 9\n",
      "Data columns (total 2 columns):\n",
      " #   Column  Non-Null Count  Dtype\n",
      "---  ------  --------------  -----\n",
      " 0   S.No.   10 non-null     int64\n",
      " 1   Year    10 non-null     int64\n",
      "dtypes: int64(2)\n",
      "memory usage: 288.0 bytes\n",
      "None\n",
      "   S.No.  Year\n",
      "0      1  2012\n",
      "1      2  2013\n",
      "2      3  2014\n",
      "3      4  2015\n",
      "4      5  2016\n"
     ]
    }
   ],
   "source": [
    "# Load Excel file\n",
    "df_years = pd.read_excel(r\"E:\\Downloads\\Data Science\\project\\pp\\Years.xlsx\")\n",
    "\n",
    "\n",
    "# Check the contents\n",
    "print(df_years.info())\n",
    "print(df_years.head())\n"
   ]
  },
  {
   "cell_type": "markdown",
   "id": "3786bd33-7a82-4658-829d-adbe15da98cd",
   "metadata": {},
   "source": [
    "## Get summary statistics for numerical columns"
   ]
  },
  {
   "cell_type": "code",
   "execution_count": 5,
   "id": "a3920626-8e35-472a-b0b2-4ca1102458b4",
   "metadata": {},
   "outputs": [
    {
     "name": "stdout",
     "output_type": "stream",
     "text": [
      "       Station Code  Temperature Min  Temperature Max       pH Min  \\\n",
      "count   6240.000000      5818.000000      5818.000000  6195.000000   \n",
      "mean    2600.109615        25.243589        27.175799     7.155052   \n",
      "std      942.700394         4.694067         4.515805     0.698224   \n",
      "min        3.000000         0.000000         0.000000     0.000000   \n",
      "25%     1841.000000        23.000000        25.000000     6.900000   \n",
      "50%     2454.000000        26.000000        28.000000     7.200000   \n",
      "75%     3214.250000        28.000000        30.000000     7.600000   \n",
      "max     4912.000000        67.000000        70.000000     9.600000   \n",
      "\n",
      "            pH Max  Conductivity (µmhos/cm) Min  Conductivity (µmhos/cm) Max  \\\n",
      "count  6195.000000                  6124.000000                  6124.000000   \n",
      "mean      7.631516                  1303.856199                  1728.061300   \n",
      "std       8.849163                  3102.087896                  3725.717739   \n",
      "min       4.600000                     0.000000                     0.000000   \n",
      "25%       7.200000                   294.000000                   415.750000   \n",
      "50%       7.510000                   680.000000                   895.000000   \n",
      "75%       7.900000                  1338.500000                  1748.250000   \n",
      "max     702.000000                 72683.000000                 87790.000000   \n",
      "\n",
      "              Year  \n",
      "count  6316.000000  \n",
      "mean   2016.924003  \n",
      "std       2.707122  \n",
      "min    2012.000000  \n",
      "25%    2015.000000  \n",
      "50%    2017.000000  \n",
      "75%    2019.000000  \n",
      "max    2021.000000  \n"
     ]
    }
   ],
   "source": [
    "# Get summary statistics for numerical columns\n",
    "print(df_combined.describe())\n"
   ]
  },
  {
   "cell_type": "code",
   "execution_count": 6,
   "id": "9767524d-1307-4da5-b712-46a662bce456",
   "metadata": {},
   "outputs": [
    {
     "data": {
      "text/plain": [
       "Index(['Station Code', 'Station Name', 'STATE', 'Temperature Min',\n",
       "       'Temperature Max', 'pH Min', 'pH Max', 'Conductivity (µmhos/cm) Min',\n",
       "       'Conductivity (µmhos/cm) Max', 'Year'],\n",
       "      dtype='object')"
      ]
     },
     "execution_count": 6,
     "metadata": {},
     "output_type": "execute_result"
    }
   ],
   "source": [
    "df_combined.columns"
   ]
  },
  {
   "cell_type": "code",
   "execution_count": 31,
   "id": "10372b38-e37a-4a67-928f-cf634520cba4",
   "metadata": {},
   "outputs": [
    {
     "data": {
      "text/plain": [
       "(6269, 3583)"
      ]
     },
     "execution_count": 31,
     "metadata": {},
     "output_type": "execute_result"
    }
   ],
   "source": [
    "df_combined.shape"
   ]
  },
  {
   "cell_type": "code",
   "execution_count": 7,
   "id": "de062f4c-0775-463b-a044-9a91afff33b4",
   "metadata": {},
   "outputs": [
    {
     "data": {
      "text/plain": [
       "Station Code  Station Name                                                                                                               STATE       Temperature Min  Temperature Max  pH Min  pH Max  Conductivity (µmhos/cm) Min  Conductivity (µmhos/cm) Max  Year\n",
       "3.0           WELL AT AHMEDABAD                                                                                                          GUJARAT     18.0             30.0             7.7     8.0     1330.0                       1336.0                       2018    1\n",
       "2964.0        WELL AT IIA PUBLIC\\nSCHOOL, MANPUR\\nMACHERI, JAIPUR,\\nRAJASTHAN                                                            RAJASTHAN   26.0             29.0             8.0     7.8     1130.0                       1350.0                       2015    1\n",
       "2966.0        SHRI GIRDHARI SINGH\\nRAJPUROHIT NEAR VILLAGE\\nPUNAYATA, JODHPUR-SUMERPUR BYE PASS ROAD,\\nPALI, RAJASTHAN                   RAJASTHAN   19.5             19.5             8.5     8.5     4900.0                       4900.0                       2019    1\n",
       "              SHRI GIRDHARI SINGH\\nRAJPUROHIT NEAR VILLAGE\\nPUNAYATA, JODHPUR-SUMERPUR BYE PASS ROAD,\\nPALI                              RAJASTHAN   23.0             23.0             8.0     8.6     5600.0                       7000.0                       2016    1\n",
       "              SHRI GIRDHARI SINGH\\nRAJPUROHIT NEAR\\nVILLAGE PUNAYATA,\\nJODHPUR- SUMERPUR\\nBYE PASS ROAD, PALI,\\nRAJASTHAN                RAJASTHAN   25.0             27.0             8.0     8.9     3800.0                       5200.0                       2015    1\n",
       "                                                                                                                                                                                                                                                                        ..\n",
       "1970.0        BOREWELL D/S TSDF SITE, GIDC\\nINDUSTRIAL AREA, VAPI                                                                        GUJARAT     27.0             27.0             7.8     8.0     498.0                        672.0                        2019    1\n",
       "                                                                                                                                                     25.0             27.0             7.6     8.0     1056.0                       3288.0                       2021    1\n",
       "                                                                                                                                                                      26.0             7.5     8.2     974.0                        1302.0                       2016    1\n",
       "1969.0        SARIGAM VILLAGE (D/S OF INDUSTRIALAREA),\\nVAPI                                                                             GUJARAT     28.0             29.0             7.2     7.6     772.0                        907.0                        2018    1\n",
       "4912.0        BORE WELL AT VANNIARVALASU\\nVILLAGE, NEAR ELEMENTARY\\nSCHOOL, THOPPAMPATTI\\nPANCHAYAT UNION, PALANI\\nTALUK, DINDIGUL DIST  TAMIL NADU  36.0             36.0             6.7     6.7     1909.0                       1909.0                       2021    1\n",
       "Name: count, Length: 5703, dtype: int64"
      ]
     },
     "execution_count": 7,
     "metadata": {},
     "output_type": "execute_result"
    }
   ],
   "source": [
    "df_combined.value_counts()"
   ]
  },
  {
   "cell_type": "markdown",
   "id": "fe9a41eb-4b41-46ab-a1ec-3b401a2b0bbb",
   "metadata": {},
   "source": [
    "## Check for missing values"
   ]
  },
  {
   "cell_type": "code",
   "execution_count": 8,
   "id": "3abb53d7-4a59-420a-ba30-d83ff13d7d51",
   "metadata": {},
   "outputs": [
    {
     "name": "stdout",
     "output_type": "stream",
     "text": [
      "Station Code                    76\n",
      "Station Name                    49\n",
      "STATE                           75\n",
      "Temperature Min                498\n",
      "Temperature Max                498\n",
      "pH Min                         121\n",
      "pH Max                         121\n",
      "Conductivity (µmhos/cm) Min    192\n",
      "Conductivity (µmhos/cm) Max    192\n",
      "dtype: int64\n"
     ]
    }
   ],
   "source": [
    "# Check for missing values\n",
    "missing_values = df_combined.isnull().sum()\n",
    "print(missing_values[missing_values > 0])  # Only display columns with missing values\n",
    "\n",
    "# # Option 1: Fill missing values\n",
    "# df_combined.fillna(df_combined.mean(), inplace=True)  # Replace with mean for numerical columns\n",
    "\n",
    "# # Option 2: Drop rows with missing values\n",
    "# # df_combined.dropna(inplace=True)\n"
   ]
  },
  {
   "cell_type": "markdown",
   "id": "d4482c17-6593-468e-a1e7-7191eb79d7d3",
   "metadata": {},
   "source": [
    "## Fill numerical columns with the mean"
   ]
  },
  {
   "cell_type": "code",
   "execution_count": 9,
   "id": "4fd90665-4ffb-4807-b829-39aa874093d7",
   "metadata": {},
   "outputs": [],
   "source": [
    "# Fill numerical columns with the mean\n",
    "df_combined['Temperature Min'] = df_combined['Temperature Min'].fillna(df_combined['Temperature Min'].mean())\n",
    "df_combined['Temperature Max'] = df_combined['Temperature Max'].fillna(df_combined['Temperature Max'].mean())\n",
    "df_combined['pH Min'] = df_combined['pH Min'].fillna(df_combined['pH Min'].mean())\n",
    "df_combined['pH Max'] = df_combined['pH Max'].fillna(df_combined['pH Max'].mean())\n",
    "df_combined['Conductivity (µmhos/cm) Min'] = df_combined['Conductivity (µmhos/cm) Min'].fillna(df_combined['Conductivity (µmhos/cm) Min'].mean())\n",
    "df_combined['Conductivity (µmhos/cm) Max'] = df_combined['Conductivity (µmhos/cm) Max'].fillna(df_combined['Conductivity (µmhos/cm) Max'].mean())\n",
    "\n",
    "# Fill categorical columns with the mode\n",
    "df_combined['Station Code'] = df_combined['Station Code'].fillna(df_combined['Station Code'].mode()[0])\n",
    "df_combined['Station Name'] = df_combined['Station Name'].fillna(df_combined['Station Name'].mode()[0])\n",
    "df_combined['STATE'] = df_combined['STATE'].fillna(df_combined['STATE'].mode()[0])\n",
    "\n"
   ]
  },
  {
   "cell_type": "markdown",
   "id": "25fb6630-ab2c-4e19-b9f0-f73eb8f9471b",
   "metadata": {},
   "source": [
    "## Check for missing values"
   ]
  },
  {
   "cell_type": "code",
   "execution_count": 10,
   "id": "3331e869-30fb-4aff-b225-0824ad1dece6",
   "metadata": {},
   "outputs": [
    {
     "name": "stdout",
     "output_type": "stream",
     "text": [
      "Series([], dtype: int64)\n"
     ]
    }
   ],
   "source": [
    "# Check for missing values\n",
    "missing_values = df_combined.isnull().sum()\n",
    "print(missing_values[missing_values > 0])  # Only display columns with missing values"
   ]
  },
  {
   "cell_type": "code",
   "execution_count": 11,
   "id": "938297c0-b1c5-4ca4-b33c-fa43e62784ed",
   "metadata": {},
   "outputs": [],
   "source": [
    "# Convert date columns to datetime (if applicable)\n",
    "if 'Date' in df_combined.columns:\n",
    "    df_combined['Date'] = pd.to_datetime(df_combined['Date'], errors='coerce')\n",
    "\n",
    "# Convert categorical columns to 'category' dtype\n",
    "for column in df_combined.select_dtypes(include=['object']).columns:\n",
    "    df_combined[column] = df_combined[column].astype('category')\n"
   ]
  },
  {
   "cell_type": "markdown",
   "id": "82f15ebf-af50-46ed-ae2e-534da7b50970",
   "metadata": {},
   "source": [
    "## Check for duplicates"
   ]
  },
  {
   "cell_type": "code",
   "execution_count": 12,
   "id": "b08175d9-0031-44f8-a9fa-e3c524651e24",
   "metadata": {},
   "outputs": [
    {
     "name": "stdout",
     "output_type": "stream",
     "text": [
      "Number of duplicate rows: 47\n"
     ]
    }
   ],
   "source": [
    "# Check for duplicates\n",
    "duplicates = df_combined.duplicated().sum()\n",
    "print(f\"Number of duplicate rows: {duplicates}\")\n",
    "\n"
   ]
  },
  {
   "cell_type": "markdown",
   "id": "76706999-3926-45bf-83e5-a03e857c63ff",
   "metadata": {},
   "source": [
    "## Remove duplicates"
   ]
  },
  {
   "cell_type": "code",
   "execution_count": 13,
   "id": "5df09882-baf5-45de-a7ff-f9a998f54d35",
   "metadata": {},
   "outputs": [],
   "source": [
    "\n",
    "# Remove duplicates\n",
    "df_combined.drop_duplicates(inplace=True)"
   ]
  },
  {
   "cell_type": "code",
   "execution_count": 14,
   "id": "ff2e238f-f8be-490c-8604-4c742c87fa4f",
   "metadata": {},
   "outputs": [
    {
     "name": "stdout",
     "output_type": "stream",
     "text": [
      "Number of duplicate rows: 0\n"
     ]
    }
   ],
   "source": [
    "duplicates = df_combined.duplicated().sum()\n",
    "print(f\"Number of duplicate rows: {duplicates}\")"
   ]
  },
  {
   "cell_type": "code",
   "execution_count": 15,
   "id": "1c04d4e1-06c8-4b7c-aa46-5622a08e0bcd",
   "metadata": {},
   "outputs": [],
   "source": [
    "# Create a 'Year' column if it doesn't exist\n",
    "if 'Date' in df_combined.columns:\n",
    "    df_combined['Year'] = df_combined['Date'].dt.year\n"
   ]
  },
  {
   "cell_type": "code",
   "execution_count": 16,
   "id": "a32d3f90-4960-4a95-b5ad-23a37c0352ba",
   "metadata": {
    "scrolled": true
   },
   "outputs": [
    {
     "name": "stdout",
     "output_type": "stream",
     "text": [
      "int64\n"
     ]
    },
    {
     "data": {
      "image/png": "[encoded data removed]",
      "text/plain": [
       "<Figure size 640x480 with 1 Axes>"
      ]
     },
     "metadata": {},
     "output_type": "display_data"
    }
   ],
   "source": [
    "import matplotlib.pyplot as plt\n",
    "import pandas as pd\n",
    "\n",
    "# Check the dtype of the 'Year' column\n",
    "print(df_combined['Year'].dtype)\n",
    "\n",
    "# No need to convert to datetime, just use the Year directly for grouping\n",
    "# Assuming you're using 'pH Min' for the average\n",
    "yearly_pH = df_combined.groupby('Year')['pH Min'].mean()\n",
    "\n",
    "# Plotting the data\n",
    "plt.plot(yearly_pH.index, yearly_pH.values, marker='o')\n",
    "plt.title('Average pH Levels Over Time')\n",
    "plt.xlabel('Year')\n",
    "plt.ylabel('Average pH Min')\n",
    "plt.grid(True)\n",
    "plt.show()\n",
    "\n"
   ]
  },
  {
   "cell_type": "code",
   "execution_count": 17,
   "id": "95a9fd9f-13e3-4d4b-b583-e2568611e7f8",
   "metadata": {},
   "outputs": [],
   "source": [
    "from sklearn.preprocessing import StandardScaler\n",
    "\n",
    "# Select numerical columns for scaling\n",
    "numerical_cols = df_combined.select_dtypes(include=['float64', 'int']).columns\n",
    "\n",
    "# Standardize the numerical columns\n",
    "scaler = StandardScaler()\n",
    "df_combined[numerical_cols] = scaler.fit_transform(df_combined[numerical_cols])\n"
   ]
  },
  {
   "cell_type": "markdown",
   "id": "0a98e7ae-a941-4699-957f-dbc9f776e76e",
   "metadata": {},
   "source": [
    "## One-hot encoding for categorical variables"
   ]
  },
  {
   "cell_type": "code",
   "execution_count": 18,
   "id": "99b3c5d2-2ce7-4c45-a528-14a3be608b75",
   "metadata": {},
   "outputs": [],
   "source": [
    "# One-hot encoding for categorical variables\n",
    "df_combined = pd.get_dummies(df_combined, columns=['Station Name', 'STATE'], drop_first=True)\n",
    "\n",
    "\n"
   ]
  },
  {
   "cell_type": "code",
   "execution_count": 19,
   "id": "eb392e33-4faa-4adb-8ba9-92b414c54ba5",
   "metadata": {
    "scrolled": true
   },
   "outputs": [
    {
     "data": {
      "text/html": [
       "<div>\n",
       "<style scoped>\n",
       "    .dataframe tbody tr th:only-of-type {\n",
       "        vertical-align: middle;\n",
       "    }\n",
       "\n",
       "    .dataframe tbody tr th {\n",
       "        vertical-align: top;\n",
       "    }\n",
       "\n",
       "    .dataframe thead th {\n",
       "        text-align: right;\n",
       "    }\n",
       "</style>\n",
       "<table border=\"1\" class=\"dataframe\">\n",
       "  <thead>\n",
       "    <tr style=\"text-align: right;\">\n",
       "      <th></th>\n",
       "      <th>Station Code</th>\n",
       "      <th>Temperature Min</th>\n",
       "      <th>Temperature Max</th>\n",
       "      <th>pH Min</th>\n",
       "      <th>pH Max</th>\n",
       "      <th>Conductivity (µmhos/cm) Min</th>\n",
       "      <th>Conductivity (µmhos/cm) Max</th>\n",
       "      <th>Year</th>\n",
       "      <th>Station Name_(JORHAT, ASSAM</th>\n",
       "      <th>Station Name_*(JORHAT, ASSAM</th>\n",
       "      <th>...</th>\n",
       "      <th>STATE_Rajasthan</th>\n",
       "      <th>STATE_TAMIL NADU</th>\n",
       "      <th>STATE_TELANGANA</th>\n",
       "      <th>STATE_TRIPURA</th>\n",
       "      <th>STATE_UTTAR PRADESH</th>\n",
       "      <th>STATE_UTTARAKHAND</th>\n",
       "      <th>STATE_UTTRAKHAND</th>\n",
       "      <th>STATE_Uttar Pradesh</th>\n",
       "      <th>STATE_Uttarakhand</th>\n",
       "      <th>STATE_WEST BENGAL</th>\n",
       "    </tr>\n",
       "  </thead>\n",
       "  <tbody>\n",
       "    <tr>\n",
       "      <th>0</th>\n",
       "      <td>-2.747910</td>\n",
       "      <td>-0.496185</td>\n",
       "      <td>0.189473</td>\n",
       "      <td>-0.482760</td>\n",
       "      <td>0.024839</td>\n",
       "      <td>-0.361691</td>\n",
       "      <td>-0.407939</td>\n",
       "      <td>-1.810599</td>\n",
       "      <td>False</td>\n",
       "      <td>False</td>\n",
       "      <td>...</td>\n",
       "      <td>False</td>\n",
       "      <td>False</td>\n",
       "      <td>False</td>\n",
       "      <td>False</td>\n",
       "      <td>False</td>\n",
       "      <td>False</td>\n",
       "      <td>False</td>\n",
       "      <td>False</td>\n",
       "      <td>False</td>\n",
       "      <td>False</td>\n",
       "    </tr>\n",
       "    <tr>\n",
       "      <th>1</th>\n",
       "      <td>-2.746847</td>\n",
       "      <td>0.388442</td>\n",
       "      <td>0.189473</td>\n",
       "      <td>0.079171</td>\n",
       "      <td>0.010060</td>\n",
       "      <td>-0.209037</td>\n",
       "      <td>-0.164869</td>\n",
       "      <td>-1.810599</td>\n",
       "      <td>False</td>\n",
       "      <td>False</td>\n",
       "      <td>...</td>\n",
       "      <td>False</td>\n",
       "      <td>False</td>\n",
       "      <td>False</td>\n",
       "      <td>False</td>\n",
       "      <td>False</td>\n",
       "      <td>False</td>\n",
       "      <td>False</td>\n",
       "      <td>False</td>\n",
       "      <td>False</td>\n",
       "      <td>False</td>\n",
       "    </tr>\n",
       "    <tr>\n",
       "      <th>2</th>\n",
       "      <td>-2.736214</td>\n",
       "      <td>0.167285</td>\n",
       "      <td>1.109021</td>\n",
       "      <td>0.050354</td>\n",
       "      <td>-0.027457</td>\n",
       "      <td>0.096924</td>\n",
       "      <td>-0.018213</td>\n",
       "      <td>-1.810599</td>\n",
       "      <td>False</td>\n",
       "      <td>False</td>\n",
       "      <td>...</td>\n",
       "      <td>False</td>\n",
       "      <td>False</td>\n",
       "      <td>False</td>\n",
       "      <td>False</td>\n",
       "      <td>False</td>\n",
       "      <td>False</td>\n",
       "      <td>False</td>\n",
       "      <td>False</td>\n",
       "      <td>False</td>\n",
       "      <td>False</td>\n",
       "    </tr>\n",
       "    <tr>\n",
       "      <th>3</th>\n",
       "      <td>-2.735151</td>\n",
       "      <td>0.167285</td>\n",
       "      <td>-0.040414</td>\n",
       "      <td>0.958090</td>\n",
       "      <td>0.132842</td>\n",
       "      <td>0.037884</td>\n",
       "      <td>-0.016312</td>\n",
       "      <td>-1.810599</td>\n",
       "      <td>False</td>\n",
       "      <td>False</td>\n",
       "      <td>...</td>\n",
       "      <td>False</td>\n",
       "      <td>False</td>\n",
       "      <td>False</td>\n",
       "      <td>False</td>\n",
       "      <td>False</td>\n",
       "      <td>False</td>\n",
       "      <td>False</td>\n",
       "      <td>False</td>\n",
       "      <td>False</td>\n",
       "      <td>False</td>\n",
       "    </tr>\n",
       "    <tr>\n",
       "      <th>4</th>\n",
       "      <td>-1.155138</td>\n",
       "      <td>-0.053871</td>\n",
       "      <td>0.649247</td>\n",
       "      <td>-0.511577</td>\n",
       "      <td>-0.059290</td>\n",
       "      <td>0.048975</td>\n",
       "      <td>-0.041569</td>\n",
       "      <td>-1.810599</td>\n",
       "      <td>False</td>\n",
       "      <td>False</td>\n",
       "      <td>...</td>\n",
       "      <td>False</td>\n",
       "      <td>False</td>\n",
       "      <td>False</td>\n",
       "      <td>False</td>\n",
       "      <td>False</td>\n",
       "      <td>False</td>\n",
       "      <td>False</td>\n",
       "      <td>False</td>\n",
       "      <td>False</td>\n",
       "      <td>False</td>\n",
       "    </tr>\n",
       "    <tr>\n",
       "      <th>...</th>\n",
       "      <td>...</td>\n",
       "      <td>...</td>\n",
       "      <td>...</td>\n",
       "      <td>...</td>\n",
       "      <td>...</td>\n",
       "      <td>...</td>\n",
       "      <td>...</td>\n",
       "      <td>...</td>\n",
       "      <td>...</td>\n",
       "      <td>...</td>\n",
       "      <td>...</td>\n",
       "      <td>...</td>\n",
       "      <td>...</td>\n",
       "      <td>...</td>\n",
       "      <td>...</td>\n",
       "      <td>...</td>\n",
       "      <td>...</td>\n",
       "      <td>...</td>\n",
       "      <td>...</td>\n",
       "      <td>...</td>\n",
       "      <td>...</td>\n",
       "    </tr>\n",
       "    <tr>\n",
       "      <th>6311</th>\n",
       "      <td>-0.070607</td>\n",
       "      <td>0.388442</td>\n",
       "      <td>0.649247</td>\n",
       "      <td>0.064763</td>\n",
       "      <td>0.030523</td>\n",
       "      <td>-0.308523</td>\n",
       "      <td>-0.292515</td>\n",
       "      <td>1.503888</td>\n",
       "      <td>False</td>\n",
       "      <td>False</td>\n",
       "      <td>...</td>\n",
       "      <td>False</td>\n",
       "      <td>False</td>\n",
       "      <td>False</td>\n",
       "      <td>False</td>\n",
       "      <td>False</td>\n",
       "      <td>False</td>\n",
       "      <td>False</td>\n",
       "      <td>False</td>\n",
       "      <td>False</td>\n",
       "      <td>True</td>\n",
       "    </tr>\n",
       "    <tr>\n",
       "      <th>6312</th>\n",
       "      <td>-0.878689</td>\n",
       "      <td>0.609599</td>\n",
       "      <td>0.879134</td>\n",
       "      <td>0.208848</td>\n",
       "      <td>-0.026320</td>\n",
       "      <td>0.042777</td>\n",
       "      <td>0.000527</td>\n",
       "      <td>1.503888</td>\n",
       "      <td>False</td>\n",
       "      <td>False</td>\n",
       "      <td>...</td>\n",
       "      <td>False</td>\n",
       "      <td>False</td>\n",
       "      <td>False</td>\n",
       "      <td>False</td>\n",
       "      <td>False</td>\n",
       "      <td>False</td>\n",
       "      <td>False</td>\n",
       "      <td>False</td>\n",
       "      <td>False</td>\n",
       "      <td>True</td>\n",
       "    </tr>\n",
       "    <tr>\n",
       "      <th>6313</th>\n",
       "      <td>-0.877626</td>\n",
       "      <td>0.830756</td>\n",
       "      <td>0.879134</td>\n",
       "      <td>0.208848</td>\n",
       "      <td>-0.037689</td>\n",
       "      <td>0.130847</td>\n",
       "      <td>0.052399</td>\n",
       "      <td>1.503888</td>\n",
       "      <td>False</td>\n",
       "      <td>False</td>\n",
       "      <td>...</td>\n",
       "      <td>False</td>\n",
       "      <td>False</td>\n",
       "      <td>False</td>\n",
       "      <td>False</td>\n",
       "      <td>False</td>\n",
       "      <td>False</td>\n",
       "      <td>False</td>\n",
       "      <td>False</td>\n",
       "      <td>False</td>\n",
       "      <td>True</td>\n",
       "    </tr>\n",
       "    <tr>\n",
       "      <th>6314</th>\n",
       "      <td>-0.056785</td>\n",
       "      <td>0.167285</td>\n",
       "      <td>0.649247</td>\n",
       "      <td>0.064763</td>\n",
       "      <td>-0.003583</td>\n",
       "      <td>-0.128796</td>\n",
       "      <td>-0.173288</td>\n",
       "      <td>1.503888</td>\n",
       "      <td>False</td>\n",
       "      <td>False</td>\n",
       "      <td>...</td>\n",
       "      <td>False</td>\n",
       "      <td>False</td>\n",
       "      <td>False</td>\n",
       "      <td>False</td>\n",
       "      <td>False</td>\n",
       "      <td>False</td>\n",
       "      <td>False</td>\n",
       "      <td>False</td>\n",
       "      <td>False</td>\n",
       "      <td>True</td>\n",
       "    </tr>\n",
       "    <tr>\n",
       "      <th>6315</th>\n",
       "      <td>-0.068481</td>\n",
       "      <td>1.051913</td>\n",
       "      <td>0.879134</td>\n",
       "      <td>1.073358</td>\n",
       "      <td>0.064629</td>\n",
       "      <td>-0.304609</td>\n",
       "      <td>-0.350634</td>\n",
       "      <td>1.503888</td>\n",
       "      <td>False</td>\n",
       "      <td>False</td>\n",
       "      <td>...</td>\n",
       "      <td>False</td>\n",
       "      <td>False</td>\n",
       "      <td>False</td>\n",
       "      <td>False</td>\n",
       "      <td>False</td>\n",
       "      <td>False</td>\n",
       "      <td>False</td>\n",
       "      <td>False</td>\n",
       "      <td>False</td>\n",
       "      <td>True</td>\n",
       "    </tr>\n",
       "  </tbody>\n",
       "</table>\n",
       "<p>6269 rows × 3581 columns</p>\n",
       "</div>"
      ],
      "text/plain": [
       "      Station Code  Temperature Min  Temperature Max    pH Min    pH Max  \\\n",
       "0        -2.747910        -0.496185         0.189473 -0.482760  0.024839   \n",
       "1        -2.746847         0.388442         0.189473  0.079171  0.010060   \n",
       "2        -2.736214         0.167285         1.109021  0.050354 -0.027457   \n",
       "3        -2.735151         0.167285        -0.040414  0.958090  0.132842   \n",
       "4        -1.155138        -0.053871         0.649247 -0.511577 -0.059290   \n",
       "...            ...              ...              ...       ...       ...   \n",
       "6311     -0.070607         0.388442         0.649247  0.064763  0.030523   \n",
       "6312     -0.878689         0.609599         0.879134  0.208848 -0.026320   \n",
       "6313     -0.877626         0.830756         0.879134  0.208848 -0.037689   \n",
       "6314     -0.056785         0.167285         0.649247  0.064763 -0.003583   \n",
       "6315     -0.068481         1.051913         0.879134  1.073358  0.064629   \n",
       "\n",
       "      Conductivity (µmhos/cm) Min  Conductivity (µmhos/cm) Max      Year  \\\n",
       "0                       -0.361691                    -0.407939 -1.810599   \n",
       "1                       -0.209037                    -0.164869 -1.810599   \n",
       "2                        0.096924                    -0.018213 -1.810599   \n",
       "3                        0.037884                    -0.016312 -1.810599   \n",
       "4                        0.048975                    -0.041569 -1.810599   \n",
       "...                           ...                          ...       ...   \n",
       "6311                    -0.308523                    -0.292515  1.503888   \n",
       "6312                     0.042777                     0.000527  1.503888   \n",
       "6313                     0.130847                     0.052399  1.503888   \n",
       "6314                    -0.128796                    -0.173288  1.503888   \n",
       "6315                    -0.304609                    -0.350634  1.503888   \n",
       "\n",
       "      Station Name_(JORHAT, ASSAM  Station Name_*(JORHAT, ASSAM  ...  \\\n",
       "0                           False                         False  ...   \n",
       "1                           False                         False  ...   \n",
       "2                           False                         False  ...   \n",
       "3                           False                         False  ...   \n",
       "4                           False                         False  ...   \n",
       "...                           ...                           ...  ...   \n",
       "6311                        False                         False  ...   \n",
       "6312                        False                         False  ...   \n",
       "6313                        False                         False  ...   \n",
       "6314                        False                         False  ...   \n",
       "6315                        False                         False  ...   \n",
       "\n",
       "      STATE_Rajasthan  STATE_TAMIL NADU  STATE_TELANGANA  STATE_TRIPURA  \\\n",
       "0               False             False            False          False   \n",
       "1               False             False            False          False   \n",
       "2               False             False            False          False   \n",
       "3               False             False            False          False   \n",
       "4               False             False            False          False   \n",
       "...               ...               ...              ...            ...   \n",
       "6311            False             False            False          False   \n",
       "6312            False             False            False          False   \n",
       "6313            False             False            False          False   \n",
       "6314            False             False            False          False   \n",
       "6315            False             False            False          False   \n",
       "\n",
       "      STATE_UTTAR PRADESH  STATE_UTTARAKHAND  STATE_UTTRAKHAND  \\\n",
       "0                   False              False             False   \n",
       "1                   False              False             False   \n",
       "2                   False              False             False   \n",
       "3                   False              False             False   \n",
       "4                   False              False             False   \n",
       "...                   ...                ...               ...   \n",
       "6311                False              False             False   \n",
       "6312                False              False             False   \n",
       "6313                False              False             False   \n",
       "6314                False              False             False   \n",
       "6315                False              False             False   \n",
       "\n",
       "      STATE_Uttar Pradesh  STATE_Uttarakhand  STATE_WEST BENGAL  \n",
       "0                   False              False              False  \n",
       "1                   False              False              False  \n",
       "2                   False              False              False  \n",
       "3                   False              False              False  \n",
       "4                   False              False              False  \n",
       "...                   ...                ...                ...  \n",
       "6311                False              False               True  \n",
       "6312                False              False               True  \n",
       "6313                False              False               True  \n",
       "6314                False              False               True  \n",
       "6315                False              False               True  \n",
       "\n",
       "[6269 rows x 3581 columns]"
      ]
     },
     "execution_count": 19,
     "metadata": {},
     "output_type": "execute_result"
    }
   ],
   "source": [
    "df_combined"
   ]
  },
  {
   "cell_type": "markdown",
   "id": "c039e1a4-d033-47a6-bb9b-5e69507b3280",
   "metadata": {},
   "source": [
    "## Display the final structure and summary statistics"
   ]
  },
  {
   "cell_type": "code",
   "execution_count": 20,
   "id": "8d7b1af9-d65c-4e37-8597-0874e542aff1",
   "metadata": {},
   "outputs": [
    {
     "name": "stdout",
     "output_type": "stream",
     "text": [
      "<class 'pandas.core.frame.DataFrame'>\n",
      "Index: 6269 entries, 0 to 6315\n",
      "Columns: 3581 entries, Station Code to STATE_WEST BENGAL\n",
      "dtypes: bool(3573), float64(8)\n",
      "memory usage: 21.8 MB\n",
      "None\n",
      "       Station Code  Temperature Min  Temperature Max        pH Min  \\\n",
      "count  6.269000e+03     6.269000e+03     6.269000e+03  6.269000e+03   \n",
      "mean  -2.176172e-16     1.598126e-16     6.936547e-16 -9.520751e-17   \n",
      "std    1.000080e+00     1.000080e+00     1.000080e+00  1.000080e+00   \n",
      "min   -2.760669e+00    -5.582792e+00    -6.247363e+00 -1.030936e+01   \n",
      "25%   -8.053238e-01    -3.413752e-01    -5.001880e-01 -3.674923e-01   \n",
      "50%   -1.556684e-01     1.672855e-01     0.000000e+00  6.476265e-02   \n",
      "75%    6.524135e-01     6.095991e-01     6.492471e-01  6.411026e-01   \n",
      "max    2.458902e+00     9.234715e+00     9.844728e+00  3.522802e+00   \n",
      "\n",
      "             pH Max  Conductivity (µmhos/cm) Min  Conductivity (µmhos/cm) Max  \\\n",
      "count  6.269000e+03                 6.269000e+03                 6.269000e+03   \n",
      "mean   8.444000e-17                 2.946899e-17                -9.067382e-18   \n",
      "std    1.000080e+00                 1.000080e+00                 1.000080e+00   \n",
      "min   -3.446444e-01                -4.252973e-01                -4.693169e-01   \n",
      "25%   -4.905779e-02                -3.267897e-01                -3.530782e-01   \n",
      "50%   -3.582934e-03                -1.976207e-01                -2.208159e-01   \n",
      "75%    3.052321e-02                 2.982563e-03                 0.000000e+00   \n",
      "max    7.894077e+01                 2.328275e+01                 2.337320e+01   \n",
      "\n",
      "               Year  \n",
      "count  6.269000e+03  \n",
      "mean  -3.764777e-14  \n",
      "std    1.000080e+00  \n",
      "min   -1.810599e+00  \n",
      "25%   -7.057700e-01  \n",
      "50%    3.078271e-02  \n",
      "75%    7.673354e-01  \n",
      "max    1.503888e+00  \n"
     ]
    }
   ],
   "source": [
    "# Display the final structure and summary statistics\n",
    "print(df_combined.info())\n",
    "print(df_combined.describe())\n"
   ]
  },
  {
   "cell_type": "code",
   "execution_count": 21,
   "id": "8e6055ff-f4b6-4e22-8fd5-a1e36b02e638",
   "metadata": {},
   "outputs": [],
   "source": [
    "# Fill missing values\n",
    "for column in df_combined.columns:\n",
    "    if df_combined[column].dtype in ['float64', 'int64']:\n",
    "        df_combined[column] = df_combined[column].fillna(df_combined[column].mean())\n",
    "    elif df_combined[column].dtype == 'object':\n",
    "        df_combined[column] = df_combined[column].fillna(\"Unknown\")\n"
   ]
  },
  {
   "cell_type": "code",
   "execution_count": 22,
   "id": "475b7ab8-a779-4270-be75-011f5dff52e1",
   "metadata": {},
   "outputs": [
    {
     "name": "stdout",
     "output_type": "stream",
     "text": [
      "Station Code           float64\n",
      "Temperature Min        float64\n",
      "Temperature Max        float64\n",
      "pH Min                 float64\n",
      "pH Max                 float64\n",
      "                        ...   \n",
      "STATE_UTTARAKHAND         bool\n",
      "STATE_UTTRAKHAND          bool\n",
      "STATE_Uttar Pradesh       bool\n",
      "STATE_Uttarakhand         bool\n",
      "STATE_WEST BENGAL         bool\n",
      "Length: 3581, dtype: object\n"
     ]
    }
   ],
   "source": [
    "print(df_combined.dtypes)\n"
   ]
  },
  {
   "cell_type": "code",
   "execution_count": 23,
   "id": "d42d33ca-2467-4e1b-923e-34886a072134",
   "metadata": {},
   "outputs": [
    {
     "name": "stdout",
     "output_type": "stream",
     "text": [
      "Station Code                    76\n",
      "Station Name                    49\n",
      "STATE                           75\n",
      "Temperature Min                498\n",
      "Temperature Max                498\n",
      "pH Min                         121\n",
      "pH Max                         121\n",
      "Conductivity (µmhos/cm) Min    192\n",
      "Conductivity (µmhos/cm) Max    192\n",
      "Year                             0\n",
      "dtype: int64\n",
      "<class 'pandas.core.frame.DataFrame'>\n",
      "Index: 6269 entries, 0 to 6315\n",
      "Columns: 3583 entries, Station Code to STATE_WEST BENGAL\n",
      "dtypes: bool(3575), float64(8)\n",
      "memory usage: 21.8 MB\n",
      "None\n",
      "       Station Code  Temperature Min  Temperature Max        pH Min  \\\n",
      "count  6.269000e+03     6.269000e+03     6.269000e+03  6.269000e+03   \n",
      "mean  -2.538867e-16     1.598126e-16     6.936547e-16 -9.520751e-17   \n",
      "std    1.000080e+00     1.000080e+00     1.000080e+00  1.000080e+00   \n",
      "min   -2.761584e+00    -5.582792e+00    -6.247363e+00 -1.030936e+01   \n",
      "25%   -8.061205e-01    -3.413752e-01    -5.001880e-01 -3.674923e-01   \n",
      "50%   -1.532360e-01     1.672855e-01     0.000000e+00  6.476265e-02   \n",
      "75%    6.517046e-01     6.095991e-01     6.492471e-01  6.411026e-01   \n",
      "max    2.458302e+00     9.234715e+00     9.844728e+00  3.522802e+00   \n",
      "\n",
      "             pH Max  Conductivity (µmhos/cm) Min  Conductivity (µmhos/cm) Max  \\\n",
      "count  6.269000e+03                 6.269000e+03                 6.269000e+03   \n",
      "mean   8.444000e-17                 2.946899e-17                -9.067382e-18   \n",
      "std    1.000080e+00                 1.000080e+00                 1.000080e+00   \n",
      "min   -3.446444e-01                -4.252973e-01                -4.693169e-01   \n",
      "25%   -4.905779e-02                -3.267897e-01                -3.530782e-01   \n",
      "50%   -3.582934e-03                -1.976207e-01                -2.208159e-01   \n",
      "75%    3.052321e-02                 2.982563e-03                 0.000000e+00   \n",
      "max    7.894077e+01                 2.328275e+01                 2.337320e+01   \n",
      "\n",
      "               Year  \n",
      "count  6.269000e+03  \n",
      "mean  -3.764777e-14  \n",
      "std    1.000080e+00  \n",
      "min   -1.810599e+00  \n",
      "25%   -7.057700e-01  \n",
      "50%    3.078271e-02  \n",
      "75%    7.673354e-01  \n",
      "max    1.503888e+00  \n"
     ]
    }
   ],
   "source": [
    "import pandas as pd\n",
    "from sklearn.preprocessing import StandardScaler\n",
    "\n",
    "# Load and combine datasets (as shown earlier)\n",
    "df_combined = pd.concat(df_list, ignore_index=True)\n",
    "\n",
    "# Check for missing values\n",
    "print(df_combined.isnull().sum())\n",
    "\n",
    "# Fill missing values\n",
    "for column in df_combined.columns:\n",
    "    if df_combined[column].dtype in ['float64', 'int64']:\n",
    "        df_combined[column] = df_combined[column].fillna(df_combined[column].mean())\n",
    "    elif df_combined[column].dtype == 'object':\n",
    "        df_combined[column] = df_combined[column].fillna(\"Unknown\")\n",
    "\n",
    "# Convert date columns to datetime\n",
    "if 'Date' in df_combined.columns:\n",
    "    df_combined['Date'] = pd.to_datetime(df_combined['Date'], errors='coerce')\n",
    "\n",
    "# Convert categorical columns to category dtype\n",
    "for column in df_combined.select_dtypes(include=['object']).columns:\n",
    "    df_combined[column] = df_combined[column].astype('category')\n",
    "\n",
    "# Remove duplicates\n",
    "df_combined = df_combined.drop_duplicates()\n",
    "\n",
    "# Create a 'Year' column\n",
    "if 'Date' in df_combined.columns:\n",
    "    df_combined['Year'] = df_combined['Date'].dt.year\n",
    "\n",
    "# Standardize numerical columns\n",
    "numerical_cols = df_combined.select_dtypes(include=['float64', 'int64']).columns\n",
    "scaler = StandardScaler()\n",
    "df_combined[numerical_cols] = scaler.fit_transform(df_combined[numerical_cols])\n",
    "\n",
    "# One-hot encoding for categorical variables\n",
    "df_combined = pd.get_dummies(df_combined, columns=['Station Name', 'STATE'], drop_first=True)\n",
    "\n",
    "# Final check\n",
    "print(df_combined.info())\n",
    "print(df_combined.describe())\n"
   ]
  },
  {
   "cell_type": "code",
   "execution_count": 24,
   "id": "55736a35-3041-442c-b16a-599fb19c8f4a",
   "metadata": {},
   "outputs": [
    {
     "name": "stdout",
     "output_type": "stream",
     "text": [
      "Linear Regression Mean Squared Error: 5.442305442082172e+21\n",
      "Linear Regression R² Score: -5.045898594650889e+21\n",
      "Random Forest Mean Squared Error: 0.22292633710408483\n",
      "Random Forest R² Score: 0.7933111797793896\n"
     ]
    }
   ],
   "source": [
    "import pandas as pd\n",
    "from sklearn.model_selection import train_test_split\n",
    "from sklearn.linear_model import LinearRegression\n",
    "from sklearn.ensemble import RandomForestRegressor\n",
    "from sklearn.metrics import mean_squared_error, r2_score\n",
    "\n",
    "# Assuming df_combined is your DataFrame\n",
    "# Select features (X) and target variable (y)\n",
    "# We will predict 'Temperature Min' as an example\n",
    "X = df_combined.drop(columns=['Temperature Min', 'Station Name_(JORHAT, ASSAM', 'Station Name_*(JORHAT, ASSAM'], errors='ignore')  \n",
    "y = df_combined['Temperature Min']\n",
    "\n",
    "# Train-test split\n",
    "X_train, X_test, y_train, y_test = train_test_split(X, y, test_size=0.2, random_state=42)\n",
    "\n",
    "# Model Training (Using Linear Regression as an example)\n",
    "linear_model = LinearRegression()\n",
    "linear_model.fit(X_train, y_train)\n",
    "\n",
    "# Predictions and Model Evaluation for Linear Regression\n",
    "y_pred_linear = linear_model.predict(X_test)\n",
    "mse_linear = mean_squared_error(y_test, y_pred_linear)\n",
    "r2_linear = r2_score(y_test, y_pred_linear)\n",
    "\n",
    "# Print performance for Linear Regression\n",
    "print(f\"Linear Regression Mean Squared Error: {mse_linear}\")\n",
    "print(f\"Linear Regression R² Score: {r2_linear}\")\n",
    "\n",
    "# Model Training (Using Random Forest Regressor as another example)\n",
    "rf_model = RandomForestRegressor(random_state=42)\n",
    "rf_model.fit(X_train, y_train)\n",
    "\n",
    "# Predictions and Model Evaluation for Random Forest\n",
    "y_pred_rf = rf_model.predict(X_test)\n",
    "mse_rf = mean_squared_error(y_test, y_pred_rf)\n",
    "r2_rf = r2_score(y_test, y_pred_rf)\n",
    "\n",
    "# Print performance for Random Forest Regressor\n",
    "print(f\"Random Forest Mean Squared Error: {mse_rf}\")\n",
    "print(f\"Random Forest R² Score: {r2_rf}\")\n",
    "\n"
   ]
  },
  {
   "cell_type": "markdown",
   "id": "05c0c54a-c82f-4801-a56b-eacb4c92d95b",
   "metadata": {},
   "source": [
    "## Feature Importance Analysis"
   ]
  },
  {
   "cell_type": "code",
   "execution_count": 34,
   "id": "de0088c1-ceb1-4c49-a459-aab77943866d",
   "metadata": {},
   "outputs": [
    {
     "name": "stdout",
     "output_type": "stream",
     "text": [
      "                                                      Importance\n",
      "Temperature Max                                     7.181230e-01\n",
      "STATE_MIZORAM                                       2.722684e-02\n",
      "Station Code                                        1.933885e-02\n",
      "Conductivity (µmhos/cm) Min                         1.866312e-02\n",
      "Conductivity (µmhos/cm) Max                         1.769262e-02\n",
      "...                                                          ...\n",
      "Station Name_WELL-1 ROHTAS\\nBOREWELL WATER\\nFRO... -9.452058e-21\n",
      "Station Name_Borewell at Manakondur                -1.414273e-20\n",
      "Station Name_WELL AT INDIA PUBLIC SCHOOL,\\nMANP... -1.596179e-20\n",
      "Station Name_Open well at Kundanpally near ash ... -9.017457e-20\n",
      "Station Name_Borewell at Pydipally near East si... -1.104064e-19\n",
      "\n",
      "[3580 rows x 1 columns]\n"
     ]
    }
   ],
   "source": [
    "#Feature Importance Analysis\n",
    "importances = rf_model.feature_importances_\n",
    "feature_importance = pd.DataFrame(importances, index=X.columns, columns=[\"Importance\"]).sort_values(\"Importance\", ascending=False)\n",
    "print(feature_importance)\n"
   ]
  },
  {
   "cell_type": "code",
   "execution_count": 35,
   "id": "9c7d2cfb-98e3-41d9-bec5-e68fccd8ce32",
   "metadata": {},
   "outputs": [
    {
     "name": "stdout",
     "output_type": "stream",
     "text": [
      "SVR Mean Squared Error: 0.2658362808706319\n",
      "SVR R² Score: 0.7535267121025202\n"
     ]
    }
   ],
   "source": [
    "from sklearn.svm import SVR\n",
    "\n",
    "svr_model = SVR()\n",
    "svr_model.fit(X_train, y_train)\n",
    "y_pred_svr = svr_model.predict(X_test)\n",
    "mse_svr = mean_squared_error(y_test, y_pred_svr)\n",
    "r2_svr = r2_score(y_test, y_pred_svr)\n",
    "print(f\"SVR Mean Squared Error: {mse_svr}\")\n",
    "print(f\"SVR R² Score: {r2_svr}\")\n"
   ]
  },
  {
   "cell_type": "code",
   "execution_count": 25,
   "id": "9feaa054-6733-4abd-945a-3ad1b033ba71",
   "metadata": {},
   "outputs": [
    {
     "data": {
      "text/plain": [
       "['random_forest_model.pkl']"
      ]
     },
     "execution_count": 25,
     "metadata": {},
     "output_type": "execute_result"
    }
   ],
   "source": [
    "import joblib\n",
    "joblib.dump(rf_model, 'random_forest_model.pkl')\n"
   ]
  },
  {
   "cell_type": "code",
   "execution_count": 29,
   "id": "91ca261b-660e-4312-86c9-39c8eb56634b",
   "metadata": {},
   "outputs": [
    {
     "name": "stdout",
     "output_type": "stream",
     "text": [
      "<class 'numpy.ndarray'>\n"
     ]
    }
   ],
   "source": [
    "import pickle\n",
    "\n",
    "with open('random_forest_model.pkl', 'rb') as file:\n",
    "    model = pickle.load(file)\n",
    "\n",
    "print(type(model))  # Check the type of the loaded model\n"
   ]
  }
 ],
 "metadata": {
  "kernelspec": {
   "display_name": "Python 3 (ipykernel)",
   "language": "python",
   "name": "python3"
  },
  "language_info": {
   "codemirror_mode": {
    "name": "ipython",
    "version": 3
   },
   "file_extension": ".py",
   "mimetype": "text/x-python",
   "name": "python",
   "nbconvert_exporter": "python",
   "pygments_lexer": "ipython3",
   "version": "3.10.0"
  }
 },
 "nbformat": 4,
 "nbformat_minor": 5
}
